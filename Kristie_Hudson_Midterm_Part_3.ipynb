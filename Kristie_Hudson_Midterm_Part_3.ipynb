{
  "nbformat": 4,
  "nbformat_minor": 0,
  "metadata": {
    "colab": {
      "provenance": [],
      "authorship_tag": "ABX9TyO+HVGjNT5NA3wLQFqasPSR",
      "include_colab_link": true
    },
    "kernelspec": {
      "name": "python3",
      "display_name": "Python 3"
    },
    "language_info": {
      "name": "python"
    }
  },
  "cells": [
    {
      "cell_type": "markdown",
      "metadata": {
        "id": "view-in-github",
        "colab_type": "text"
      },
      "source": [
        "<a href=\"https://colab.research.google.com/github/khudson2021/Probability_Statistics/blob/main/Kristie_Hudson_Midterm_Part_3.ipynb\" target=\"_parent\"><img src=\"https://colab.research.google.com/assets/colab-badge.svg\" alt=\"Open In Colab\"/></a>"
      ]
    },
    {
      "cell_type": "code",
      "execution_count": 1,
      "metadata": {
        "id": "W_ZUDwulQ0vU"
      },
      "outputs": [],
      "source": [
        "import numpy as np #numpy is a set of tools\n",
        "import matplotlib.pyplot as plt #this imports the set of tools"
      ]
    },
    {
      "cell_type": "code",
      "source": [
        "X = np.array([12,9,20,7,2]) #these are the circumferences of the data that are used for the graph \n",
        "Y = np.array([38,28,63,22,6]) #these are the diameters of the data that are used for the graph "
      ],
      "metadata": {
        "id": "SUwxzWbpQ-nt"
      },
      "execution_count": 2,
      "outputs": []
    },
    {
      "cell_type": "code",
      "source": [
        "plt.plot(X,Y,'g.') #this plots the points as green dots on the graph "
      ],
      "metadata": {
        "colab": {
          "base_uri": "https://localhost:8080/",
          "height": 283
        },
        "id": "QPEoitK_RX3y",
        "outputId": "75c336bc-3875-461c-9c70-7eb0d4ada892"
      },
      "execution_count": 3,
      "outputs": [
        {
          "output_type": "execute_result",
          "data": {
            "text/plain": [
              "[<matplotlib.lines.Line2D at 0x7fa11aed0a10>]"
            ]
          },
          "metadata": {},
          "execution_count": 3
        },
        {
          "output_type": "display_data",
          "data": {
            "text/plain": [
              "<Figure size 432x288 with 1 Axes>"
            ],
            "image/png": "[encoded data removed]"
          },
          "metadata": {
            "needs_background": "light"
          }
        }
      ]
    },
    {
      "cell_type": "code",
      "source": [
        "m_guess = 0 #this makes your initial guess for m 0\n",
        "b_guess = 0 #this makes your initial guess for b 0"
      ],
      "metadata": {
        "id": "tEPXsGowRiMG"
      },
      "execution_count": 8,
      "outputs": []
    },
    {
      "cell_type": "markdown",
      "source": [
        "$y=mx+b$ \n",
        "    #this assumes our data has this relationship"
      ],
      "metadata": {
        "id": "3ZHEFAPuS5Oh"
      }
    },
    {
      "cell_type": "code",
      "source": [
        "m_guess * X + b_guess #this is the equation that outputs the array of the five numbers in our data"
      ],
      "metadata": {
        "colab": {
          "base_uri": "https://localhost:8080/"
        },
        "id": "4PKuMk0hSLVt",
        "outputId": "4e64d4f1-1f23-4655-a725-3fd6eb1dec7b"
      },
      "execution_count": 5,
      "outputs": [
        {
          "output_type": "execute_result",
          "data": {
            "text/plain": [
              "array([0, 0, 0, 0, 0])"
            ]
          },
          "metadata": {},
          "execution_count": 5
        }
      ]
    },
    {
      "cell_type": "code",
      "source": [
        "y_guess = m_guess * X + b_guess #this provides the equation for our data to output a guess"
      ],
      "metadata": {
        "id": "wwiDybjYSPkM"
      },
      "execution_count": 7,
      "outputs": []
    },
    {
      "cell_type": "code",
      "source": [
        "y_guess - Y #this subtracts our guess from our original data to show how well the model fits the data "
      ],
      "metadata": {
        "colab": {
          "base_uri": "https://localhost:8080/"
        },
        "id": "zZt-PsyYTDlA",
        "outputId": "38fc4fd2-34b2-4310-9fac-2ce5b3c73f59"
      },
      "execution_count": 9,
      "outputs": [
        {
          "output_type": "execute_result",
          "data": {
            "text/plain": [
              "array([-38, -28, -63, -22,  -6])"
            ]
          },
          "metadata": {},
          "execution_count": 9
        }
      ]
    },
    {
      "cell_type": "code",
      "source": [
        "np.sum((y_guess - Y)**2) #this squares the numbers in the array to get rid of the negatives and then gives us a sum of the array (least squares best fit)"
      ],
      "metadata": {
        "colab": {
          "base_uri": "https://localhost:8080/"
        },
        "id": "cR2JiprnTqdX",
        "outputId": "6545ddf6-4cca-4e01-fa9e-8478a9638356"
      },
      "execution_count": 12,
      "outputs": [
        {
          "output_type": "execute_result",
          "data": {
            "text/plain": [
              "6717"
            ]
          },
          "metadata": {},
          "execution_count": 12
        }
      ]
    },
    {
      "cell_type": "code",
      "source": [
        "loss = np.sum((y_guess - Y)**2) #this determines if the loss is better or worse than our guess"
      ],
      "metadata": {
        "id": "pvycTiHCUUYk"
      },
      "execution_count": 13,
      "outputs": []
    },
    {
      "cell_type": "code",
      "source": [
        "best_loss_so_far = 100000000000000 #this sets the best loss to a number bigger than possible but we use it so python can calculate the best loss instead of by hand\n",
        "m_best = 0 #this is a place holder to keep track of the best m we have so far\n",
        "b_best = 0 #this ia also a place holder that makes our intial guess 0\n",
        "\n",
        "for m_guess in np.linspace(-100,100,100): #this sorts the array from -100 to 100 for all possible guesses for m\n",
        "    for b_guess in np.linspace(-100,100,100): #this sorts the array from -100 to 100 for all possible guesses for b\n",
        "       \n",
        "        y_guess = m_guess * X + b_guess #this recalculates our y guess based on our m guess\n",
        "\n",
        "        loss = np.sum((y_guess - Y)**2) #this recalculates the new loss based on our new guess data to see how well it matches the data we already have\n",
        "\n",
        "        if loss < best_loss_so_far: #this searches through all the values to calculate the best \n",
        "            m_best = m_guess #this sets m guess to find the best fit for m \n",
        "            b_best = b_guess #this sets b guess to find the best fit for b \n",
        "            best_loss_so_far = loss #this determines that the best loss found so far will equal the loss\n",
        "\n",
        "\n",
        "print(\"Found better fit:\") #this makes sure it only prints when the best fit possible is determined\n",
        "print(m_best,b_best,loss) #this prints all possible guesses for m, b, and loss that arent less than -100 or bigger than 100\n",
        "#this ensures the values wont be printed until pyhton is done checking every number for the best fit \n",
        "\n",
        "\n"
      ],
      "metadata": {
        "colab": {
          "base_uri": "https://localhost:8080/"
        },
        "id": "Hs4H-SrXWTHW",
        "outputId": "5feebbd5-80b1-44b3-de53-fbf33818eec4"
      },
      "execution_count": 19,
      "outputs": [
        {
          "output_type": "stream",
          "name": "stdout",
          "text": [
            "Found better fit:\n",
            "3.030303030303031 1.0101010101010104 7378517.0\n"
          ]
        }
      ]
    },
    {
      "cell_type": "markdown",
      "source": [
        "## Part 3: Interpretation"
      ],
      "metadata": {
        "id": "4WUs_oD0hNTh"
      }
    },
    {
      "cell_type": "markdown",
      "source": [
        "#### Question 1:\n",
        "\n",
        "What do $m$ and $b$ represent in these equations?\n",
        "\n",
        "M represents the slope and B represents the y-intercept in these equations."
      ],
      "metadata": {
        "id": "68sahG6xhTXF"
      }
    },
    {
      "cell_type": "markdown",
      "source": [
        "#### Question 2:\n",
        "\n",
        "Guess what the correct values $m$ and $b$ should be.\n",
        "\n",
        "I believe the correct valuues for m and b are m = 3 and b = 1"
      ],
      "metadata": {
        "id": "xMJqfeUYhvIB"
      }
    },
    {
      "cell_type": "markdown",
      "source": [
        "#### Question 3:\n",
        "\n",
        "Does it make sense to include $b$ in the parameters?\n",
        "\n",
        "Yes it makes sense to include b."
      ],
      "metadata": {
        "id": "XX6iNuZrh1y5"
      }
    },
    {
      "cell_type": "code",
      "source": [],
      "metadata": {
        "id": "V_lrioLuh2SK"
      },
      "execution_count": null,
      "outputs": []
    }
  ]
}